{
  "nbformat": 4,
  "nbformat_minor": 0,
  "metadata": {
    "colab": {
      "name": "Taller 1 - Ejercicios en Python.ipynb",
      "provenance": [],
      "collapsed_sections": [
        "OiDvzNzvdPvr",
        "W936Bg7jdWJ0",
        "vwdYCrI1dbs2",
        "fP4kb0d1dd8z",
        "m8ZF5KqTdgCj",
        "IGPDkK_uc8Z_",
        "bDnb4TEJdIsf",
        "-NXmAziYdI6z",
        "fv_pew06KicG",
        "hUyB42lvM8OE",
        "Gl2FaWopdJNh",
        "kYkODLpi-hnU"
      ]
    },
    "kernelspec": {
      "name": "python3",
      "display_name": "Python 3"
    },
    "language_info": {
      "name": "python"
    }
  },
  "cells": [
    {
      "cell_type": "markdown",
      "metadata": {
        "id": "v_duj-lFcdrk"
      },
      "source": [
        "**Taller 1 - Ejercicios Python**\n",
        "\n",
        "En este taller se busca fortalecer los conocimientos básicos en el manejo del lenguaje **Python**.\n",
        "\n",
        "\n",
        "**Consideraciones**\n",
        "\n",
        "* Lea estas consideraciones!!!\n",
        "* No modifique las celdas de texto. Salvo la siguiente en la cual debe poner su nombre y curso.\n",
        "* Asegurese de incluir la documentación (**Con ortografía**) para cada una de las fucniones construídas.\n",
        "* Es un ejercicio de aprendizaje, por lo que se espera una total autonomia en su desarrollo con soluciones tan variadas como la personalidad de cada uno.\n",
        "* No todos los ejercicios tienen la misma calificación. Está se muestra al lado del título de cada ejercicio.\n",
        "* Si agrega celdas asegurese que correspondan al ejercicio que está desarrollando.\n",
        "* Los ejercicios pueden ser auto-validados, por tanto, debe respetar los nombres dados a cada función.\n"
      ]
    },
    {
      "cell_type": "markdown",
      "metadata": {
        "id": "XvW_RdVdcqHj"
      },
      "source": [
        "**Datos de la presentación**\n",
        "\n",
        "\n",
        "* **Curso**: Ponga aquí su curso y jornada (901T/901N)\n",
        "\n",
        "* **Autores**:\n",
        "\n",
        "1. Ponga aquí el nombre del primer autor\n",
        "2. Ponga aquí el nombre del segundo autor"
      ]
    },
    {
      "cell_type": "markdown",
      "metadata": {
        "id": "OiDvzNzvdPvr"
      },
      "source": [
        "# Ejercicio 1 (0.2)\n",
        "\n",
        "Crear una función con la siguiente firma:\n",
        "\n",
        "```python\n",
        "def operacion1(x, w, b):\n",
        "```\n",
        "\n",
        "y retorne el resultado de la siguiente ecuación:\n",
        "\n",
        "$y = (min(wx + b, 0)^2)!$"
      ]
    },
    {
      "cell_type": "code",
      "metadata": {
        "id": "cdLUjn6EcYfQ"
      },
      "source": [
        "# Aquí su código, agregue todas las celdas que necesite."
      ],
      "execution_count": null,
      "outputs": []
    },
    {
      "cell_type": "markdown",
      "metadata": {
        "id": "W936Bg7jdWJ0"
      },
      "source": [
        "# Ejercicio 2 (0.3)\n",
        "\n",
        "Crear una función con la siguiente firma:\n",
        "\n",
        "```python\n",
        "def operacion2(peso, estatura):\n",
        "```\n",
        "\n",
        "y retorne una tupla con el indice de masa corporal y un texto con alguno de los siguientes valores: 'Inferior', 'Normal', 'Sobrepeso', 'Obesidad'.\n",
        "\n",
        "* Peso en kilos\n",
        "* Estatura en centímetros\n",
        "* Recuerde que Python es case-sensitive\n",
        "* Referencia: https://www.texasheart.org/heart-health/heart-information-center/topics/calculadora-del-indice-de-masa-corporal-imc/"
      ]
    },
    {
      "cell_type": "code",
      "metadata": {
        "id": "0iK92lM7dX6X"
      },
      "source": [
        "# Aquí su código, agregue todas las celdas que necesite."
      ],
      "execution_count": null,
      "outputs": []
    },
    {
      "cell_type": "markdown",
      "metadata": {
        "id": "vwdYCrI1dbs2"
      },
      "source": [
        "# Ejercicio 3 (0.4)\n",
        "\n",
        "Crear una función con la siguiente firma:\n",
        "\n",
        "```python\n",
        "def operacion3(dividendo, divisor):\n",
        "```\n",
        "\n",
        "y retorne una tupla con el cociente (entero) y residuo (entero).\n",
        "\n",
        "* Ejemplo: operacion3(5,2) retornará (2,1).\n"
      ]
    },
    {
      "cell_type": "code",
      "metadata": {
        "id": "igwQbXUDddIP"
      },
      "source": [
        "# Aquí su código, agregue todas las celdas que necesite."
      ],
      "execution_count": null,
      "outputs": []
    },
    {
      "cell_type": "markdown",
      "metadata": {
        "id": "fP4kb0d1dd8z"
      },
      "source": [
        "# Ejercicio 4 (0.4)\n",
        "\n",
        "Crear una función con la siguiente firma:\n",
        "\n",
        "```python\n",
        "def operacion4(frase):\n",
        "```\n",
        "\n",
        "y retorne la misma frase en sentido inverso.\n"
      ]
    },
    {
      "cell_type": "code",
      "metadata": {
        "id": "IoE45f-WdfGv"
      },
      "source": [
        "# Aquí su código, agregue todas las celdas que necesite."
      ],
      "execution_count": null,
      "outputs": []
    },
    {
      "cell_type": "markdown",
      "metadata": {
        "id": "m8ZF5KqTdgCj"
      },
      "source": [
        "# Ejercicio 5 (0.6)\n",
        "\n",
        "Crear una función con la siguiente firma:\n",
        "\n",
        "```python\n",
        "def operacion5(correo):\n",
        "```\n",
        "\n",
        "y retorne un *False* o *True* dependiendo si la dirección de correo ingresada tiene un formato válido."
      ]
    },
    {
      "cell_type": "code",
      "metadata": {
        "id": "ai2ptLRudhjf"
      },
      "source": [
        "# Aquí su código, agregue todas las celdas que necesite."
      ],
      "execution_count": null,
      "outputs": []
    },
    {
      "cell_type": "markdown",
      "metadata": {
        "id": "IGPDkK_uc8Z_"
      },
      "source": [
        "# Ejercicio 6 (0.6)\n",
        "\n",
        "Crear una función con la siguiente firma:\n",
        "\n",
        "```python\n",
        "def operacion6(fecha_nacimiento):\n",
        "```\n",
        "\n",
        "Donde *fecha_nacimiento* tiene el formato *yyyy-mm-dd*. y retorne un *True* cuando la persona sea mayor de edad (18 años cumplidos) o *False* en caso contrario."
      ]
    },
    {
      "cell_type": "code",
      "metadata": {
        "id": "20cESP0udGEd"
      },
      "source": [
        "# Aquí su código, agregue todas las celdas que necesite."
      ],
      "execution_count": null,
      "outputs": []
    },
    {
      "cell_type": "markdown",
      "metadata": {
        "id": "bDnb4TEJdIsf"
      },
      "source": [
        "# Ejercicio 7 (0.2)\n",
        "\n",
        "Crear una función con la siguiente firma:\n",
        "\n",
        "```python\n",
        "def operacion7(base, paso, cantidad):\n",
        "```\n",
        "\n",
        "y retorne una lista de números de tamaño *cantidad*, empezando por *base* y avanzando *paso*.\n",
        "\n",
        "* Ejemplo: si se recibe (0,2,5) la lista deberá ser [0,2,4,6,8]\n"
      ]
    },
    {
      "cell_type": "code",
      "metadata": {
        "id": "QNtNl0uYdIsh"
      },
      "source": [
        "# Aquí su código, agregue todas las celdas que necesite."
      ],
      "execution_count": null,
      "outputs": []
    },
    {
      "cell_type": "markdown",
      "metadata": {
        "id": "-NXmAziYdI6z"
      },
      "source": [
        "# Ejercicio 8 (0.6)\n",
        "\n",
        "Crear un diccionario a partir de la siguiente tabla:\n",
        "\n",
        "\n",
        "| Nombre     | Edad |\n",
        "| ------- | -----: | \n",
        "| Pepe   |  10 |  \n",
        "| Maria |  17 |\n",
        "| Jose   |  25 |\n",
        "| Andrea   |  16 |\n",
        "\n",
        "Crear una función con la siguiente firma:\n",
        "\n",
        "```python\n",
        "def operacion8(dicc, nombre, edad):\n",
        "```\n",
        "\n",
        "y retorne el mismo diccionario recibido pero con la edad de la persona actualizada, utizando el nombre y edad recibida como parámetro."
      ]
    },
    {
      "cell_type": "code",
      "metadata": {
        "id": "6Yi-flc_dI61"
      },
      "source": [
        "# Aquí su código, agregue todas las celdas que necesite."
      ],
      "execution_count": null,
      "outputs": []
    },
    {
      "cell_type": "markdown",
      "source": [
        "# Ejercicio 9 (0.5)\n",
        "\n",
        "Crear una función con la siguiente firma:\n",
        "\n",
        "```python\n",
        "def operacion9(nombre1, nombre2, nombre3):\n",
        "```\n",
        "\n",
        "y retorne una tupla que indique el nombre más largo de los 3 y la longitud.\n",
        "\n",
        "* Ejemplo: si se recibe ('Carlos','María','Pepe') el resultado debería ser 'Carlos', 6"
      ],
      "metadata": {
        "id": "4tWlSlWMJkgl"
      }
    },
    {
      "cell_type": "code",
      "source": [
        "# Aquí su código, agregue todas las celdas que necesite."
      ],
      "metadata": {
        "id": "L3ZRchVxKaAF"
      },
      "execution_count": null,
      "outputs": []
    },
    {
      "cell_type": "markdown",
      "source": [
        "# Ejercicio 10 (0.7)\n",
        "\n",
        "Crear una función con la siguiente firma:\n",
        "\n",
        "```python\n",
        "def operacion10(db):\n",
        "```\n",
        "\n",
        "La variable db contendrá un un dicciónario de la siguiente forma:\n",
        "\n",
        "db = {\"Nombre\":[\"Pepe\", \"María\", \"Andrea\"], \"Edad\":[25,23,19]}\n",
        "\n",
        "y persedntarlo con la función print en forma vertical así:\n",
        "\n",
        "\n",
        "Nombre  Edad\n",
        "\n",
        "Pepe    25\n",
        "\n",
        "María   23\n",
        "\n",
        "Andrea  19"
      ],
      "metadata": {
        "id": "fv_pew06KicG"
      }
    },
    {
      "cell_type": "code",
      "source": [
        "# Aquí su código, agregue todas las celdas que necesite."
      ],
      "metadata": {
        "id": "G9uVj1m9MW7Z"
      },
      "execution_count": null,
      "outputs": []
    },
    {
      "cell_type": "markdown",
      "metadata": {
        "id": "idKM0qx3pKJd"
      },
      "source": [
        "# ¿Faltan décimas?\n",
        "\n",
        "> **Pues documenta el código!!!!**\n",
        "\n",
        "<img width=\"300\" src=\"https://previews.123rf.com/images/kakigori/kakigori1402/kakigori140200047/26168565-ilustraci%C3%B3n-de-malestar-rega%C3%B1o-madre-joven-ni%C3%B1a-llorando.jpg\"/>"
      ]
    },
    {
      "cell_type": "markdown",
      "source": [
        "# **Extra-point**\n",
        "\n",
        "Los siguientes puntos son opcionanles pero le otorgarán puntos adicionales. O incluso podrían suplir la realización de uno anterior.\n"
      ],
      "metadata": {
        "id": "hUyB42lvM8OE"
      }
    },
    {
      "cell_type": "markdown",
      "metadata": {
        "id": "Gl2FaWopdJNh"
      },
      "source": [
        "**Avanzado Dataframe 1**\n",
        "\n",
        "Crear un *DataFrame* (de pandas) a partir de la siguiente tabla. **Importante** la variable se debe llamar *df*:\n",
        "\n",
        "| Mes     | Ventas | Gastos |\n",
        "| ------- | -----: | -----: |\n",
        "| Enero   |  10200 |  20000 |\n",
        "| Febrero |  30600 |  25400 |\n",
        "| Marzo   |  10300 |  18000 |\n",
        "| Abril   |  30900 |  24000 |\n",
        "\n",
        "Crear una función con la siguiente firma:\n",
        "\n",
        "```python\n",
        "def operacion11(df):\n",
        "```\n",
        "\n",
        "y retorne un objeto *DataFrame* únicamente con las filas de los meses donde los *Gastos* hayam sido superiores a las  *Ventas*.\n",
        "\n",
        "* *df* es el *DatFrame* creado con los datos de la tabla anterior."
      ]
    },
    {
      "cell_type": "code",
      "metadata": {
        "id": "KaB8xNy9dJNi"
      },
      "source": [
        "# Aquí su código, agregue todas las celdas que necesite."
      ],
      "execution_count": null,
      "outputs": []
    },
    {
      "cell_type": "markdown",
      "metadata": {
        "id": "mDIKMQ9wdJja"
      },
      "source": [
        "**Avanzado Dataframe 2**\n",
        "\n",
        "Crear una *DatFrame* a partir de la tabla en https://github.com/datasciencedojo/datasets/blob/master/titanic.csv\n",
        "\n",
        "\n",
        "A partir de los datos cerar las siguientes gráficas:\n",
        "\n",
        "* Diagrama de barrar donde e pueda comparar la cantidad de hombres sobrevivientes y fallecidos, vs las mismas variables para el caso de las mujeres.\n",
        "\n",
        "* Diagrama de barrar donde e pueda comparar la cantidad de niños (hasta 10 años) sobrevivientes y fallecidos, vs las mismas variables para el caso de las mayores de 10 años.\n",
        "\n",
        "* Diagrama de línea que compare en el eje ***X*** el precio y en el ***Y*** la ***pclase***.\n",
        "\n",
        "* Diagrama sccater teniendo en el eje ***X*** la edad de la persona, en el eje ***Y*** el sexo de la persona y el color del punto estará dado por la variable ***Survived***."
      ]
    },
    {
      "cell_type": "code",
      "metadata": {
        "id": "wwOFiAmJdJjc"
      },
      "source": [
        "# Aquí su código, agregue todas las celdas que necesite."
      ],
      "execution_count": null,
      "outputs": []
    },
    {
      "cell_type": "markdown",
      "metadata": {
        "id": "qjg3vP2ffGkO"
      },
      "source": [
        "**Pirámide**\n",
        "\n",
        "Crear una función con la siguiente firma:\n",
        "\n",
        "```python\n",
        "def extra(altura):\n",
        "```\n",
        "\n",
        "que imprima la siguiente píramide de primos.\n",
        "```\n",
        "1\n",
        "2-1\n",
        "3-2-1\n",
        "5-3-2-1\n",
        "7-5-3-2-1\n",
        "11-7-5-3-2-1\n",
        "13-11-7-5-3-2-1\n",
        "```\n",
        "\n",
        "Donde la cantidad de filas de la píramide está dada por la variable *altura*."
      ]
    },
    {
      "cell_type": "markdown",
      "metadata": {
        "id": "kYkODLpi-hnU"
      },
      "source": [
        "# Celdas de validadción"
      ]
    },
    {
      "cell_type": "markdown",
      "source": [
        "**No modifique las siguientes celdas, aunque puede utilizarlas para verificar sus funciones**\n",
        "\n",
        "*Si las modifica será restado el pundo del ejercicio alterado.*"
      ],
      "metadata": {
        "id": "JAExCsveG_OW"
      }
    },
    {
      "cell_type": "code",
      "metadata": {
        "colab": {
          "base_uri": "https://localhost:8080/",
          "height": 35
        },
        "id": "uGBFX_x_-mgO",
        "outputId": "b5af5079-76f0-4b13-d1e5-7d2860daac83"
      },
      "source": [
        "# Ejercicio 1:\n",
        "test = operacion1(-1, 1, -1) == 24\n",
        "test &= operacion1(1, 1, 1) == 1\n",
        "'Luce bien!' if test else 'Revise el enunciado ya que el resultado no parece correcto'"
      ],
      "execution_count": null,
      "outputs": [
        {
          "output_type": "execute_result",
          "data": {
            "application/vnd.google.colaboratory.intrinsic+json": {
              "type": "string"
            },
            "text/plain": [
              "'Luce bien!'"
            ]
          },
          "metadata": {},
          "execution_count": 7
        }
      ]
    },
    {
      "cell_type": "code",
      "metadata": {
        "colab": {
          "base_uri": "https://localhost:8080/",
          "height": 35
        },
        "id": "WyqXjkDzBoNe",
        "outputId": "01768496-4922-4671-f7c9-a13a95cffb2a"
      },
      "source": [
        "# Ejercicio 2\n",
        "test = True\n",
        "if type(operacion2(100,180)) != tuple:\n",
        "    print('Asegurese de retorna una tupla')\n",
        "    test = False\n",
        "if len(operacion2(100,180)) != 2:\n",
        "    print('Asegurese que la tupla tenga 2 elementos')\n",
        "    test = False\n",
        "if operacion2(100,180) != (30.864197530864196, 'Obesidad'):\n",
        "    print('El resultado del cálculo del IMC o la valoración es incorrecta')\n",
        "    test = False\n",
        "\n",
        "'Luce bien!' if test else 'Revise el enunciado ya que el resultado no parece correcto'"
      ],
      "execution_count": null,
      "outputs": [
        {
          "output_type": "execute_result",
          "data": {
            "application/vnd.google.colaboratory.intrinsic+json": {
              "type": "string"
            },
            "text/plain": [
              "'Luce bien!'"
            ]
          },
          "metadata": {},
          "execution_count": 166
        }
      ]
    },
    {
      "cell_type": "code",
      "metadata": {
        "colab": {
          "base_uri": "https://localhost:8080/",
          "height": 35
        },
        "id": "Tpg_IvyoDGJK",
        "outputId": "63ed56eb-2a7d-44a4-f561-70f862f96b0e"
      },
      "source": [
        "# Ejercicio 3\n",
        "test = True\n",
        "if operacion3(5,2) != (2,1):\n",
        "    print('El resultado del cálculo es incorrecto')\n",
        "    test = False\n",
        "    \n",
        "if operacion3(7,2) != (3,1):\n",
        "    print('El resultado del cálculo es incorrecto')\n",
        "    test = False\n",
        "\n",
        "'Luce bien!' if test else 'Revise el enunciado ya que el resultado no parece correcto'"
      ],
      "execution_count": null,
      "outputs": [
        {
          "output_type": "execute_result",
          "data": {
            "application/vnd.google.colaboratory.intrinsic+json": {
              "type": "string"
            },
            "text/plain": [
              "'Luce bien!'"
            ]
          },
          "metadata": {},
          "execution_count": 167
        }
      ]
    },
    {
      "cell_type": "code",
      "metadata": {
        "colab": {
          "base_uri": "https://localhost:8080/",
          "height": 35
        },
        "id": "fxjUQkeKGcZX",
        "outputId": "bc73b30c-1523-46e1-dcb2-ad8d2818ed49"
      },
      "source": [
        "# Ejercicio 4\n",
        "test = True\n",
        "if operacion4('Esto es una oración') != 'nóicaro anu se otsE':\n",
        "    print('El resultado del cálculo es incorrecto')\n",
        "    test = False\n",
        "if operacion4('Sé ver la luz azúl al revéS') != 'Séver la lúza zul al rev éS':\n",
        "    print('El resultado del cálculo es incorrecto')\n",
        "    test = False\n",
        "\n",
        "'Luce bien!' if test else 'Revise el enunciado ya que el resultado no parece correcto'"
      ],
      "execution_count": null,
      "outputs": [
        {
          "output_type": "execute_result",
          "data": {
            "application/vnd.google.colaboratory.intrinsic+json": {
              "type": "string"
            },
            "text/plain": [
              "'Luce bien!'"
            ]
          },
          "metadata": {},
          "execution_count": 168
        }
      ]
    },
    {
      "cell_type": "code",
      "metadata": {
        "colab": {
          "base_uri": "https://localhost:8080/",
          "height": 35
        },
        "id": "IPRJCV9QGfgz",
        "outputId": "78a73b86-888b-4e39-c7b0-97f58d82ec71"
      },
      "source": [
        "# Ejercicio 5\n",
        "test = True\n",
        "if not operacion5('gavit0eslaostia@udec.co'):\n",
        "    print('La validación no es correcta')\n",
        "    test = False\n",
        "if operacion5('gavit0eslaostia@udec.co.'):\n",
        "    print('El resultado del cálculo es incorrecto')\n",
        "    test = False\n",
        "\n",
        "'Luce bien!' if test else 'Revise el enunciado ya que el resultado no parece correcto'"
      ],
      "execution_count": null,
      "outputs": [
        {
          "output_type": "execute_result",
          "data": {
            "application/vnd.google.colaboratory.intrinsic+json": {
              "type": "string"
            },
            "text/plain": [
              "'Luce bien!'"
            ]
          },
          "metadata": {},
          "execution_count": 169
        }
      ]
    },
    {
      "cell_type": "code",
      "metadata": {
        "colab": {
          "base_uri": "https://localhost:8080/",
          "height": 35
        },
        "id": "xTMV5ppoK0bT",
        "outputId": "b0154da8-03a1-4d20-ac4c-b526a65f8ac3"
      },
      "source": [
        "# Ejercicio 6\n",
        "test = True\n",
        "if not operacion6('2000-01-15'):\n",
        "    print('La validación no es correcta')\n",
        "    test = False\n",
        "if operacion6('2010-01-15'):\n",
        "    print('El resultado del cálculo es incorrecto')\n",
        "    test = False\n",
        "\n",
        "'Luce bien!' if test else 'Revise el enunciado ya que el resultado no parece correcto'"
      ],
      "execution_count": null,
      "outputs": [
        {
          "output_type": "execute_result",
          "data": {
            "application/vnd.google.colaboratory.intrinsic+json": {
              "type": "string"
            },
            "text/plain": [
              "'Luce bien!'"
            ]
          },
          "metadata": {},
          "execution_count": 170
        }
      ]
    },
    {
      "cell_type": "code",
      "metadata": {
        "colab": {
          "base_uri": "https://localhost:8080/",
          "height": 35
        },
        "id": "a2wK6f2KOE2D",
        "outputId": "4e229f81-a3aa-400f-dcb1-37cd1794d448"
      },
      "source": [
        "# Ejercicio 7\n",
        "test = True\n",
        "if operacion7(0,2,5) != [0,2,4,6,8]:\n",
        "    print('La lista no tiene los elementos esperados')\n",
        "    test = False\n",
        "if operacion7(0,3,4) != [0,3,6,9]:\n",
        "    print('La lista no tiene los elementos esperados')\n",
        "    test = False\n",
        "\n",
        "'Luce bien!' if test else 'Revise el enunciado ya que el resultado no parece correcto'"
      ],
      "execution_count": null,
      "outputs": [
        {
          "output_type": "execute_result",
          "data": {
            "application/vnd.google.colaboratory.intrinsic+json": {
              "type": "string"
            },
            "text/plain": [
              "'Luce bien!'"
            ]
          },
          "metadata": {},
          "execution_count": 171
        }
      ]
    },
    {
      "cell_type": "code",
      "metadata": {
        "colab": {
          "base_uri": "https://localhost:8080/",
          "height": 35
        },
        "id": "_fy-_1-BQKkY",
        "outputId": "7c0ae847-d24e-470c-b3f3-cb6b9e7c8250"
      },
      "source": [
        "# Ejercicio 8\n",
        "dicc = [{'Nombre': 'Pepe', 'Edad' : 10},\n",
        "        {'Nombre': 'Maria', 'Edad' : 17},\n",
        "        {'Nombre': 'Jose', 'Edad' : 25},\n",
        "        {'Nombre': 'Andrea', 'Edad' : 16},\n",
        "]\n",
        "res = operacion8(dicc, 'Andrea', 17)\n",
        "test = True\n",
        "if res[3]['Edad'] != 17:\n",
        "    print('Asegurese de actualizar la edad del elemento correcto')\n",
        "    test = False\n",
        "\n",
        "'Luce bien!' if test else 'Revise el enunciado ya que el resultado no parece correcto'"
      ],
      "execution_count": null,
      "outputs": [
        {
          "output_type": "execute_result",
          "data": {
            "application/vnd.google.colaboratory.intrinsic+json": {
              "type": "string"
            },
            "text/plain": [
              "'Luce bien!'"
            ]
          },
          "metadata": {},
          "execution_count": 172
        }
      ]
    },
    {
      "cell_type": "code",
      "source": [
        "# Ejercicio 9\n",
        "res1, res2 = operacion9('Carlos', 'María', 'Pepe')\n",
        "test = res1 == 'Carlos' and res2 == 6\n",
        "\n",
        "'Luce bien!' if test else 'Revise el enunciado ya que el resultado no parece correcto'"
      ],
      "metadata": {
        "id": "5E_R9M2-RmsZ"
      },
      "execution_count": null,
      "outputs": []
    },
    {
      "cell_type": "code",
      "source": [
        "# Ejercicio 10\n",
        "\n",
        "db = {\"Nombre\":[\"Pepe\", \"María\", \"Andrea\"], \"Edad\":[25,23,19]}\n",
        "operacion10(db)"
      ],
      "metadata": {
        "id": "MMnH-jz5SkXb"
      },
      "execution_count": null,
      "outputs": []
    },
    {
      "cell_type": "markdown",
      "source": [
        "***Extras***"
      ],
      "metadata": {
        "id": "5ZwAgcohRf95"
      }
    },
    {
      "cell_type": "code",
      "metadata": {
        "colab": {
          "base_uri": "https://localhost:8080/",
          "height": 35
        },
        "id": "U9EvMjHnSgRW",
        "outputId": "9032f975-32d1-4125-fcde-67df3484e823"
      },
      "source": [
        "# Ejercicio Extra 1\n",
        "db = {\n",
        "    'Mes': ['Enero', 'Febrero', 'Marzo', 'Abril'],\n",
        "    'Ventas': ['10200', '30600', '10300', '30900'],\n",
        "    'Gastos': ['20000', '25400', '18000', '24000'],\n",
        "}\n",
        "\n",
        "df = pd.DataFrame(db)\n",
        "if len(operacion11(df)) != 2:\n",
        "    print('Asegurese de filtrar solo donde los gastos sean mayores que las ventas')\n",
        "    test = False\n",
        "\n",
        "'Luce bien!' if test else 'Revise el enunciado ya que el resultado no parece correcto'"
      ],
      "execution_count": null,
      "outputs": [
        {
          "output_type": "execute_result",
          "data": {
            "application/vnd.google.colaboratory.intrinsic+json": {
              "type": "string"
            },
            "text/plain": [
              "'Luce bien!'"
            ]
          },
          "metadata": {},
          "execution_count": 173
        }
      ]
    },
    {
      "cell_type": "markdown",
      "source": [
        "Si todo loce bien, así lucirá la nota."
      ],
      "metadata": {
        "id": "hw2rKlJzSw8h"
      }
    }
  ]
}