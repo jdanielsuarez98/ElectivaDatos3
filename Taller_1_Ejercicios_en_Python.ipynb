{
  "nbformat": 4,
  "nbformat_minor": 0,
  "metadata": {
    "colab": {
      "name": "Taller_1_Ejercicios_en_Python.ipynb",
      "provenance": [],
      "collapsed_sections": [
        "kYkODLpi-hnU"
      ],
      "include_colab_link": true
    },
    "kernelspec": {
      "name": "python3",
      "display_name": "Python 3"
    },
    "language_info": {
      "name": "python"
    }
  },
  "cells": [
    {
      "cell_type": "markdown",
      "metadata": {
        "id": "view-in-github",
        "colab_type": "text"
      },
      "source": [
        "<a href=\"https://colab.research.google.com/github/jdanielsuarez98/ElectivaDatos3/blob/main/Taller_1_Ejercicios_en_Python.ipynb\" target=\"_parent\"><img src=\"https://colab.research.google.com/assets/colab-badge.svg\" alt=\"Open In Colab\"/></a>"
      ]
    },
    {
      "cell_type": "markdown",
      "metadata": {
        "id": "v_duj-lFcdrk"
      },
      "source": [
        "**Taller 1 - Ejercicios Python**\n",
        "\n",
        "En este taller se busca fortalecer los conocimientos básicos en el manejo del lenguaje **Python**.\n",
        "\n",
        "\n",
        "**Consideraciones**\n",
        "\n",
        "* Lea estas consideraciones!!!\n",
        "* No modifique las celdas de texto. Salvo la siguiente en la cual debe poner su nombre y curso.\n",
        "* Asegurese de incluir la documentación (**Con ortografía**) para cada una de las fucniones construídas.\n",
        "* Es un ejercicio de aprendizaje, por lo que se espera una total autonomia en su desarrollo con soluciones tan variadas como la personalidad de cada uno.\n",
        "* No todos los ejercicios tienen la misma calificación. Está se muestra al lado del título de cada ejercicio.\n",
        "* Si agrega celdas asegurese que correspondan al ejercicio que está desarrollando.\n",
        "* Los ejercicios pueden ser auto-validados, por tanto, debe respetar los nombres dados a cada función.\n"
      ]
    },
    {
      "cell_type": "markdown",
      "metadata": {
        "id": "XvW_RdVdcqHj"
      },
      "source": [
        "**Datos de la presentación**\n",
        "\n",
        "\n",
        "* **Curso**: 901T\n",
        "\n",
        "* **Autores**:\n",
        "\n",
        "1. Yerson Daniel Morales Arevalo\n",
        "2. José Daniel Suárez Pachon"
      ]
    },
    {
      "cell_type": "markdown",
      "metadata": {
        "id": "OiDvzNzvdPvr"
      },
      "source": [
        "# Ejercicio 1 (0.2)\n",
        "\n",
        "Crear una función con la siguiente firma:\n",
        "\n",
        "```python\n",
        "def operacion1(x, w, b):\n",
        "```\n",
        "\n",
        "y retorne el resultado de la siguiente ecuación:\n",
        "\n",
        "$y = (min(wx + b, 0)^2)!$"
      ]
    },
    {
      "cell_type": "code",
      "metadata": {
        "id": "cdLUjn6EcYfQ",
        "colab": {
          "base_uri": "https://localhost:8080/"
        },
        "outputId": "4daae603-c197-4438-d088-a35655485751"
      },
      "source": [
        "# Aquí su código, agregue todas las celdas que necesite.\n",
        "\n",
        "import math\n",
        "\n",
        "# Se realiza la operación deseada apartir de la libreria math que permite sacar el factorial del ejercicio y realizar la operación\n",
        "def operacion1(x, w, b):\n",
        "  return math.factorial(math.pow(min((w*x+b),0),2))\n",
        "\n",
        "x = int(input(\"Digite el valor de x: \"))\n",
        "w = int(input(\"Digite el valor de w: \"))\n",
        "b = int(input(\"Digite el valor de b: \"))\n",
        "\n",
        "operacion1(x, w, b)\n"
      ],
      "execution_count": 1,
      "outputs": [
        {
          "name": "stdout",
          "output_type": "stream",
          "text": [
            "Digite el valor de x: 5\n",
            "Digite el valor de w: 6\n",
            "Digite el valor de b: 2\n"
          ]
        },
        {
          "output_type": "execute_result",
          "data": {
            "text/plain": [
              "1"
            ]
          },
          "metadata": {},
          "execution_count": 1
        }
      ]
    },
    {
      "cell_type": "markdown",
      "metadata": {
        "id": "W936Bg7jdWJ0"
      },
      "source": [
        "# Ejercicio 2 (0.3)\n",
        "\n",
        "Crear una función con la siguiente firma:\n",
        "\n",
        "```python\n",
        "def operacion2(peso, estatura):\n",
        "```\n",
        "\n",
        "y retorne una tupla con el indice de masa corporal y un texto con alguno de los siguientes valores: 'Inferior', 'Normal', 'Sobrepeso', 'Obesidad'.\n",
        "\n",
        "* Peso en kilos\n",
        "* Estatura en centímetros\n",
        "* Recuerde que Python es case-sensitive\n",
        "* Referencia: https://www.texasheart.org/heart-health/heart-information-center/topics/calculadora-del-indice-de-masa-corporal-imc/"
      ]
    },
    {
      "cell_type": "code",
      "metadata": {
        "id": "0iK92lM7dX6X",
        "colab": {
          "base_uri": "https://localhost:8080/"
        },
        "outputId": "d82ddee6-4b2f-4773-aec7-5eeed44a3df6"
      },
      "source": [
        "# Aquí su código, agregue todas las celdas que necesite.\n",
        "\n",
        "# Se realiza una tupla en la función la cual a partir de la condición ejecutada devuelve un String \n",
        "def operacion2(peso, estatura):\n",
        "  tupla = (\"Inferior\",\"Normal\",\"Sobrepeso\",\"Obesidad\")\n",
        "  # Ya que la estatura esta en centimetros se necesita dividir en 100 \n",
        "  estatura = (estatura/100)\n",
        "  # la formula para saber el indice de masa corporal es peso / estatura\n",
        "  masa = (peso/estatura)\n",
        "  if masa > 30:\n",
        "    print(tupla[3])\n",
        "  elif masa >= 25:\n",
        "    print(tupla[2])\n",
        "  elif masa >= 185:\n",
        "    print(tupla[1])\n",
        "  elif masa <= 185:\n",
        "    print(tupla[0])\n",
        "  print(masa)\n",
        "\n",
        "# Se piden las variables\n",
        "peso = float(input(\"Digite el valor de su Peso en kilos: \"))\n",
        "estatura = float(input(\"Digite el valor de su Estatura en centímetros: \"))\n",
        "\n",
        "operacion2(peso, estatura)\n"
      ],
      "execution_count": 9,
      "outputs": [
        {
          "output_type": "stream",
          "name": "stdout",
          "text": [
            "Digite el valor de su Peso en kilos: 70\n",
            "Digite el valor de su Estatura en centímetros: 170\n",
            "Obesidad\n",
            "41.1764705882353\n"
          ]
        }
      ]
    },
    {
      "cell_type": "markdown",
      "metadata": {
        "id": "vwdYCrI1dbs2"
      },
      "source": [
        "# Ejercicio 3 (0.4)\n",
        "\n",
        "Crear una función con la siguiente firma:\n",
        "\n",
        "```python\n",
        "def operacion3(dividendo, divisor):\n",
        "```\n",
        "\n",
        "y retorne una tupla con el cociente (entero) y residuo (entero).\n",
        "\n",
        "* Ejemplo: operacion3(5,2) retornará (2,1).\n"
      ]
    },
    {
      "cell_type": "code",
      "metadata": {
        "id": "igwQbXUDddIP",
        "colab": {
          "base_uri": "https://localhost:8080/"
        },
        "outputId": "9fb5b3da-c37b-480d-b23c-f74dabf680e2"
      },
      "source": [
        "# Aquí su código, agregue todas las celdas que necesite.\n",
        "\n",
        "def operacion3(dividendo, divisor):\n",
        "  # divmod devuelve dos valores de la divición: el cociente y el residuo los cuales se guardan en una tupla que muestra los valores resultantes\n",
        "  cociente, residuo = divmod(dividendo, divisor)\n",
        "  tupla = (cociente, residuo)\n",
        "  return tupla\n",
        "\n",
        "# Se piden las variables\n",
        "dividendo = int(input(\"Digite el valor de dividendo: \"))\n",
        "divisor = int(input(\"Digite el valor de divisor: \"))\n",
        "\n",
        "operacion3(dividendo, divisor)\n"
      ],
      "execution_count": 11,
      "outputs": [
        {
          "name": "stdout",
          "output_type": "stream",
          "text": [
            "Digite el valor de dividendo: 9\n",
            "Digite el valor de divisor: 4\n"
          ]
        },
        {
          "output_type": "execute_result",
          "data": {
            "text/plain": [
              "(2, 1)"
            ]
          },
          "metadata": {},
          "execution_count": 11
        }
      ]
    },
    {
      "cell_type": "markdown",
      "metadata": {
        "id": "fP4kb0d1dd8z"
      },
      "source": [
        "# Ejercicio 4 (0.4)\n",
        "\n",
        "Crear una función con la siguiente firma:\n",
        "\n",
        "```python\n",
        "def operacion4(frase):\n",
        "```\n",
        "\n",
        "y retorne la misma frase en sentido inverso.\n"
      ]
    },
    {
      "cell_type": "code",
      "metadata": {
        "id": "IoE45f-WdfGv",
        "colab": {
          "base_uri": "https://localhost:8080/"
        },
        "outputId": "a01a3d85-d9ed-4442-99b5-2a6973c593b3"
      },
      "source": [
        "# Aquí su código, agregue todas las celdas que necesite.\n",
        "\n",
        "# En la función se realiza un for para retornar la frase en sentido contrario a partir de la función reversed\n",
        "def operacion4(frase):\n",
        "  for i in reversed(frase):\n",
        "    print(i, end=\"\")\n",
        "\n",
        "# Se piden la frase\n",
        "frase = input(\"Digite la Frase: \")\n",
        "\n",
        "# Se convierte la frase en una lista de caracteres y se guarda en una nueva variable\n",
        "frase1 = list(frase)\n",
        "\n",
        "# Se llama la función\n",
        "operacion4(frase1)"
      ],
      "execution_count": 12,
      "outputs": [
        {
          "output_type": "stream",
          "name": "stdout",
          "text": [
            "Digite la Frase: amor ojor\n",
            "rojo roma"
          ]
        }
      ]
    },
    {
      "cell_type": "markdown",
      "metadata": {
        "id": "m8ZF5KqTdgCj"
      },
      "source": [
        "# Ejercicio 5 (0.6)\n",
        "\n",
        "Crear una función con la siguiente firma:\n",
        "\n",
        "```python\n",
        "def operacion5(correo):\n",
        "```\n",
        "\n",
        "y retorne un *False* o *True* dependiendo si la dirección de correo ingresada tiene un formato válido."
      ]
    },
    {
      "cell_type": "code",
      "metadata": {
        "id": "ai2ptLRudhjf",
        "colab": {
          "base_uri": "https://localhost:8080/"
        },
        "outputId": "2675ed5c-09db-4b78-9017-02662f091fc7"
      },
      "source": [
        "# Aquí su código, agregue todas las celdas que necesite.\n",
        "\n",
        "# Se realiza una función con un if donde la condición pide que si tiene un @ en el correo es valido \"True\" y si no es invalido \"False\"\n",
        "def operacion5(correo):\n",
        "  if \"@\" in correo:\n",
        "\t  x = True\n",
        "  else:\n",
        "\t  x = False\n",
        "  return x\n",
        "\n",
        "# Se piden el correo\n",
        "correo = input(\"Digite el correo: \")\n",
        "\n",
        "# Se llama la función y se le pasa el correo\n",
        "operacion5(correo)"
      ],
      "execution_count": 13,
      "outputs": [
        {
          "name": "stdout",
          "output_type": "stream",
          "text": [
            "Digite el correo: daniel.com.es\n"
          ]
        },
        {
          "output_type": "execute_result",
          "data": {
            "text/plain": [
              "False"
            ]
          },
          "metadata": {},
          "execution_count": 13
        }
      ]
    },
    {
      "cell_type": "markdown",
      "metadata": {
        "id": "IGPDkK_uc8Z_"
      },
      "source": [
        "# Ejercicio 6 (0.6)\n",
        "\n",
        "Crear una función con la siguiente firma:\n",
        "\n",
        "```python\n",
        "def operacion6(fecha_nacimiento):\n",
        "```\n",
        "\n",
        "Donde *fecha_nacimiento* tiene el formato *yyyy-mm-dd*. y retorne un *True* cuando la persona sea mayor de edad (18 años cumplidos) o *False* en caso contrario."
      ]
    },
    {
      "cell_type": "code",
      "metadata": {
        "id": "20cESP0udGEd",
        "colab": {
          "base_uri": "https://localhost:8080/"
        },
        "outputId": "b6462ede-9255-4506-b7c8-87a8054b0921"
      },
      "source": [
        "# Aquí su código, agregue todas las celdas que necesite.\n",
        "\n",
        "# Se importa date para poder manejar fechas\n",
        "from datetime import date\n",
        "\n",
        "def operacion6(fecha_nacimiento):\n",
        "    # Se da la fecha actual del programa para tener una base del año actual\n",
        "    fecha_actual = date.today()\n",
        "    resultado = fecha_actual.year - fecha_nacimiento.year\n",
        "    # Se compara la fecha actual con la fecha de nacimiento dada en el ejercicio\n",
        "    resultado -= ((fecha_actual.month, fecha_actual.day) < (fecha_nacimiento.month, fecha_nacimiento.day))\n",
        "    # Se realiza un if a partir del resultado para conocer si es mayor o menor de edad\n",
        "    if resultado > 18:\n",
        "      # Si es mayor trae True\n",
        "      mayor = bool(1)\n",
        "    else:\n",
        "      # Si es menor trae False\n",
        "       mayor = bool(0)\n",
        "    return mayor\n",
        "  \n",
        "# Se da la fecha de nacimiento\n",
        "fecha = date(2002,11,27)\n",
        "\n",
        "# Se llama la función\n",
        "operacion6(fecha)"
      ],
      "execution_count": 15,
      "outputs": [
        {
          "output_type": "execute_result",
          "data": {
            "text/plain": [
              "True"
            ]
          },
          "metadata": {},
          "execution_count": 15
        }
      ]
    },
    {
      "cell_type": "markdown",
      "metadata": {
        "id": "bDnb4TEJdIsf"
      },
      "source": [
        "# Ejercicio 7 (0.2)\n",
        "\n",
        "Crear una función con la siguiente firma:\n",
        "\n",
        "```python\n",
        "def operacion7(base, paso, cantidad):\n",
        "```\n",
        "\n",
        "y retorne una lista de números de tamaño *cantidad*, empezando por *base* y avanzando *paso*.\n",
        "\n",
        "* Ejemplo: si se recibe (0,2,5) la lista deberá ser [0,2,4,6,8]\n"
      ]
    },
    {
      "cell_type": "code",
      "metadata": {
        "id": "QNtNl0uYdIsh",
        "colab": {
          "base_uri": "https://localhost:8080/"
        },
        "outputId": "81f32348-5d46-4b55-9d3e-1caa86b2a63d"
      },
      "source": [
        "# Aquí su código, agregue todas las celdas que necesite.\n",
        "\n",
        "def operacion7(cantidad, base, paso):\n",
        "  # definimos la lista\n",
        "  lista=[]\n",
        "  # Creamos un for para que alimente la lista de la manera en que se indica\n",
        "  for i in range(base, cantidad, paso):\n",
        "    #alimentamos la lista\n",
        "    lista.append(i)\n",
        "\n",
        " # imprimimos la lista\n",
        "  print(lista)\n",
        "\n",
        "# hacemos el input para tomar las variables\n",
        "base = int(input(\"base: \"))\n",
        "cantidad = int(input(\"cantidad: \"))\n",
        "paso = int(input(\"paso: \"))\n",
        "\n",
        "# invocamos la función\n",
        "operacion7(cantidad,base,paso)"
      ],
      "execution_count": 21,
      "outputs": [
        {
          "output_type": "stream",
          "name": "stdout",
          "text": [
            "base: 0\n",
            "cantidad: 2\n",
            "paso: 5\n",
            "[0]\n"
          ]
        }
      ]
    },
    {
      "cell_type": "markdown",
      "metadata": {
        "id": "-NXmAziYdI6z"
      },
      "source": [
        "# Ejercicio 8 (0.6)\n",
        "\n",
        "Crear un diccionario a partir de la siguiente tabla:\n",
        "\n",
        "\n",
        "| Nombre     | Edad |\n",
        "| ------- | -----: | \n",
        "| Pepe   |  10 |  \n",
        "| Maria |  17 |\n",
        "| Jose   |  25 |\n",
        "| Andrea   |  16 |\n",
        "\n",
        "Crear una función con la siguiente firma:\n",
        "\n",
        "```python\n",
        "def operacion8(dicc, nombre, edad):\n",
        "```\n",
        "\n",
        "y retorne el mismo diccionario recibido pero con la edad de la persona actualizada, utizando el nombre y edad recibida como parámetro."
      ]
    },
    {
      "cell_type": "code",
      "metadata": {
        "id": "6Yi-flc_dI61",
        "colab": {
          "base_uri": "https://localhost:8080/"
        },
        "outputId": "dcd6ac3c-a18b-4024-9f6d-231293683266"
      },
      "source": [
        "# Aquí su código, agregue todas las celdas que necesite.\n",
        "\n",
        "def operacion8(dicc, nombre, edad):\n",
        "  # Se hace un if donde la condición es que si el nombre ingresado esta en el diccionario cambia la edad si no, no existe\n",
        "  if nombre in dicc:\n",
        "    dicc[nombre] = edad\n",
        "    print(dicc)\n",
        "  else:\n",
        "    print(\"No existe esa clave\")\n",
        "\n",
        "# Se crea el diccionario con las claves y su respectivo valor\n",
        "dicc = {\"Pepe\": 10, \"Maria\": 17, \"Jose\": 25, \"Andrea\": 16}\n",
        "nombre = input(\"Digite el nombre: \")\n",
        "edad = int(input(\"Digite la edad: \"))\n",
        "# Se llama la función\n",
        "operacion8(dicc, nombre, edad)\n"
      ],
      "execution_count": 24,
      "outputs": [
        {
          "output_type": "stream",
          "name": "stdout",
          "text": [
            "Digite el nombre: Pepe\n",
            "Digite la edad: 10\n",
            "{'Pepe': 10, 'Maria': 17, 'Jose': 25, 'Andrea': 16}\n"
          ]
        }
      ]
    },
    {
      "cell_type": "markdown",
      "source": [
        "# Ejercicio 9 (0.5)\n",
        "\n",
        "Crear una función con la siguiente firma:\n",
        "\n",
        "```python\n",
        "def operacion9(nombre1, nombre2, nombre3):\n",
        "```\n",
        "\n",
        "y retorne una tupla que indique el nombre más largo de los 3 y la longitud.\n",
        "\n",
        "* Ejemplo: si se recibe ('Carlos','María','Pepe') el resultado debería ser 'Carlos', 6"
      ],
      "metadata": {
        "id": "4tWlSlWMJkgl"
      }
    },
    {
      "cell_type": "code",
      "source": [
        "# Aquí su código, agregue todas las celdas que necesite.\n",
        "\n",
        "import pandas as pd\n",
        "# Creamos el DataFrame con los datos de la tabla\n",
        "df = pd.DataFrame({\n",
        "    'Mes':['Enero', 'Febrero', 'Marzo', 'Abril'], \n",
        "    'Ventas':[10200, 30600, 10300, 30900], \n",
        "    'Gastos':[20000, 25400, 18000, 24000]\n",
        "    })\n",
        "\n",
        "def operacion9(df):\n",
        "#creamos una columna llamada comparacion que albergue la resta entre ventas y gastos para saber si gastos supera a ventas\n",
        "    df['comparacion'] = df.Ventas - df.Gastos\n",
        "#creamos df2 con las filas de df que su comparacion sea <0\n",
        "    df2 = pd.DataFrame(df[df['comparacion']<0])\n",
        "    return df2\n",
        "    \n",
        "#imprimimos df2\n",
        "print(operacion9(df))"
      ],
      "metadata": {
        "id": "L3ZRchVxKaAF",
        "colab": {
          "base_uri": "https://localhost:8080/"
        },
        "outputId": "9822b820-5c48-4af9-f207-0e176ce8056c"
      },
      "execution_count": 25,
      "outputs": [
        {
          "output_type": "stream",
          "name": "stdout",
          "text": [
            "     Mes  Ventas  Gastos  comparacion\n",
            "0  Enero   10200   20000        -9800\n",
            "2  Marzo   10300   18000        -7700\n"
          ]
        }
      ]
    },
    {
      "cell_type": "markdown",
      "source": [
        "# Ejercicio 10 (0.7)\n",
        "\n",
        "Crear una función con la siguiente firma:\n",
        "\n",
        "```python\n",
        "def operacion10(db):\n",
        "```\n",
        "\n",
        "La variable db contendrá un un dicciónario de la siguiente forma:\n",
        "\n",
        "db = {\"Nombre\":[\"Pepe\", \"María\", \"Andrea\"], \"Edad\":[25,23,19]}\n",
        "\n",
        "y persedntarlo con la función print en forma vertical así:\n",
        "\n",
        "\n",
        "Nombre  Edad\n",
        "\n",
        "Pepe    25\n",
        "\n",
        "María   23\n",
        "\n",
        "Andrea  19"
      ],
      "metadata": {
        "id": "fv_pew06KicG"
      }
    },
    {
      "cell_type": "code",
      "source": [
        "# Aquí su código, agregue todas las celdas que necesite.\n",
        "\n",
        "import pandas as pd\n",
        "import seaborn as sns\n",
        "import matplotlib.pyplot as plt \n",
        "# Generar un DataFrame con los datos del fichero.\n",
        "df3 = pd.read_html('https://github.com/datasciencedojo/datasets/blob/master/titanic.csv')[0]\n",
        "\n",
        "print(df3)\n",
        "\n",
        "(df3[df3['Sex']==\"male\"]).plot()\n",
        "#plt.rcdefaults()\n",
        "#fig, ax = plt.subplots()\n",
        "#ax.set_yticklabels(df3)"
      ],
      "metadata": {
        "id": "G9uVj1m9MW7Z",
        "colab": {
          "base_uri": "https://localhost:8080/",
          "height": 525
        },
        "outputId": "7d780570-d00b-44a3-c8bc-b062bcc29e8d"
      },
      "execution_count": 26,
      "outputs": [
        {
          "output_type": "stream",
          "name": "stdout",
          "text": [
            "     Unnamed: 0  PassengerId  Survived  ...     Fare Cabin Embarked\n",
            "0           NaN            1         0  ...   7.2500   NaN        S\n",
            "1           NaN            2         1  ...  71.2833   C85        C\n",
            "2           NaN            3         1  ...   7.9250   NaN        S\n",
            "3           NaN            4         1  ...  53.1000  C123        S\n",
            "4           NaN            5         0  ...   8.0500   NaN        S\n",
            "..          ...          ...       ...  ...      ...   ...      ...\n",
            "886         NaN          887         0  ...  13.0000   NaN        S\n",
            "887         NaN          888         1  ...  30.0000   B42        S\n",
            "888         NaN          889         0  ...  23.4500   NaN        S\n",
            "889         NaN          890         1  ...  30.0000  C148        C\n",
            "890         NaN          891         0  ...   7.7500   NaN        Q\n",
            "\n",
            "[891 rows x 13 columns]\n"
          ]
        },
        {
          "output_type": "execute_result",
          "data": {
            "text/plain": [
              "<matplotlib.axes._subplots.AxesSubplot at 0x7f48e2599510>"
            ]
          },
          "metadata": {},
          "execution_count": 26
        },
        {
          "output_type": "display_data",
          "data": {
            "image/png": "[encoded data removed]",
            "text/plain": [
              "<Figure size 432x288 with 1 Axes>"
            ]
          },
          "metadata": {
            "needs_background": "light"
          }
        }
      ]
    },
    {
      "cell_type": "markdown",
      "metadata": {
        "id": "idKM0qx3pKJd"
      },
      "source": [
        "# ¿Faltan décimas?\n",
        "\n",
        "> **Pues documenta el código!!!!**\n",
        "\n",
        "<img width=\"300\" src=\"https://previews.123rf.com/images/kakigori/kakigori1402/kakigori140200047/26168565-ilustraci%C3%B3n-de-malestar-rega%C3%B1o-madre-joven-ni%C3%B1a-llorando.jpg\"/>"
      ]
    },
    {
      "cell_type": "markdown",
      "source": [
        "# **Extra-point**\n",
        "\n",
        "Los siguientes puntos son opcionanles pero le otorgarán puntos adicionales. O incluso podrían suplir la realización de uno anterior.\n"
      ],
      "metadata": {
        "id": "hUyB42lvM8OE"
      }
    },
    {
      "cell_type": "markdown",
      "metadata": {
        "id": "Gl2FaWopdJNh"
      },
      "source": [
        "**Avanzado Dataframe 1**\n",
        "\n",
        "Crear un *DataFrame* (de pandas) a partir de la siguiente tabla. **Importante** la variable se debe llamar *df*:\n",
        "\n",
        "| Mes     | Ventas | Gastos |\n",
        "| ------- | -----: | -----: |\n",
        "| Enero   |  10200 |  20000 |\n",
        "| Febrero |  30600 |  25400 |\n",
        "| Marzo   |  10300 |  18000 |\n",
        "| Abril   |  30900 |  24000 |\n",
        "\n",
        "Crear una función con la siguiente firma:\n",
        "\n",
        "```python\n",
        "def operacion11(df):\n",
        "```\n",
        "\n",
        "y retorne un objeto *DataFrame* únicamente con las filas de los meses donde los *Gastos* hayam sido superiores a las  *Ventas*.\n",
        "\n",
        "* *df* es el *DatFrame* creado con los datos de la tabla anterior."
      ]
    },
    {
      "cell_type": "code",
      "metadata": {
        "id": "KaB8xNy9dJNi"
      },
      "source": [
        "# Aquí su código, agregue todas las celdas que necesite."
      ],
      "execution_count": null,
      "outputs": []
    },
    {
      "cell_type": "markdown",
      "metadata": {
        "id": "mDIKMQ9wdJja"
      },
      "source": [
        "**Avanzado Dataframe 2**\n",
        "\n",
        "Crear una *DatFrame* a partir de la tabla en https://github.com/datasciencedojo/datasets/blob/master/titanic.csv\n",
        "\n",
        "\n",
        "A partir de los datos cerar las siguientes gráficas:\n",
        "\n",
        "* Diagrama de barrar donde e pueda comparar la cantidad de hombres sobrevivientes y fallecidos, vs las mismas variables para el caso de las mujeres.\n",
        "\n",
        "* Diagrama de barrar donde e pueda comparar la cantidad de niños (hasta 10 años) sobrevivientes y fallecidos, vs las mismas variables para el caso de las mayores de 10 años.\n",
        "\n",
        "* Diagrama de línea que compare en el eje ***X*** el precio y en el ***Y*** la ***pclase***.\n",
        "\n",
        "* Diagrama sccater teniendo en el eje ***X*** la edad de la persona, en el eje ***Y*** el sexo de la persona y el color del punto estará dado por la variable ***Survived***."
      ]
    },
    {
      "cell_type": "code",
      "metadata": {
        "id": "wwOFiAmJdJjc"
      },
      "source": [
        "# Aquí su código, agregue todas las celdas que necesite."
      ],
      "execution_count": null,
      "outputs": []
    },
    {
      "cell_type": "markdown",
      "metadata": {
        "id": "qjg3vP2ffGkO"
      },
      "source": [
        "**Pirámide**\n",
        "\n",
        "Crear una función con la siguiente firma:\n",
        "\n",
        "```python\n",
        "def extra(altura):\n",
        "```\n",
        "\n",
        "que imprima la siguiente píramide de primos.\n",
        "```\n",
        "1\n",
        "2-1\n",
        "3-2-1\n",
        "5-3-2-1\n",
        "7-5-3-2-1\n",
        "11-7-5-3-2-1\n",
        "13-11-7-5-3-2-1\n",
        "```\n",
        "\n",
        "Donde la cantidad de filas de la píramide está dada por la variable *altura*."
      ]
    },
    {
      "cell_type": "code",
      "source": [
        "# Aquí su código, agregue todas las celdas que necesite.\n"
      ],
      "metadata": {
        "id": "vAayRlIOmZGQ"
      },
      "execution_count": 35,
      "outputs": []
    },
    {
      "cell_type": "markdown",
      "metadata": {
        "id": "kYkODLpi-hnU"
      },
      "source": [
        "# Celdas de validadción"
      ]
    },
    {
      "cell_type": "markdown",
      "source": [
        "**No modifique las siguientes celdas, aunque puede utilizarlas para verificar sus funciones**\n",
        "\n",
        "*Si las modifica será restado el pundo del ejercicio alterado.*"
      ],
      "metadata": {
        "id": "JAExCsveG_OW"
      }
    },
    {
      "cell_type": "code",
      "metadata": {
        "colab": {
          "base_uri": "https://localhost:8080/",
          "height": 35
        },
        "id": "uGBFX_x_-mgO",
        "outputId": "b5af5079-76f0-4b13-d1e5-7d2860daac83"
      },
      "source": [
        "# Ejercicio 1:\n",
        "test = operacion1(-1, 1, -1) == 24\n",
        "test &= operacion1(1, 1, 1) == 1\n",
        "'Luce bien!' if test else 'Revise el enunciado ya que el resultado no parece correcto'"
      ],
      "execution_count": null,
      "outputs": [
        {
          "output_type": "execute_result",
          "data": {
            "application/vnd.google.colaboratory.intrinsic+json": {
              "type": "string"
            },
            "text/plain": [
              "'Luce bien!'"
            ]
          },
          "metadata": {},
          "execution_count": 7
        }
      ]
    },
    {
      "cell_type": "code",
      "metadata": {
        "colab": {
          "base_uri": "https://localhost:8080/",
          "height": 35
        },
        "id": "WyqXjkDzBoNe",
        "outputId": "01768496-4922-4671-f7c9-a13a95cffb2a"
      },
      "source": [
        "# Ejercicio 2\n",
        "test = True\n",
        "if type(operacion2(100,180)) != tuple:\n",
        "    print('Asegurese de retorna una tupla')\n",
        "    test = False\n",
        "if len(operacion2(100,180)) != 2:\n",
        "    print('Asegurese que la tupla tenga 2 elementos')\n",
        "    test = False\n",
        "if operacion2(100,180) != (30.864197530864196, 'Obesidad'):\n",
        "    print('El resultado del cálculo del IMC o la valoración es incorrecta')\n",
        "    test = False\n",
        "\n",
        "'Luce bien!' if test else 'Revise el enunciado ya que el resultado no parece correcto'"
      ],
      "execution_count": null,
      "outputs": [
        {
          "output_type": "execute_result",
          "data": {
            "application/vnd.google.colaboratory.intrinsic+json": {
              "type": "string"
            },
            "text/plain": [
              "'Luce bien!'"
            ]
          },
          "metadata": {},
          "execution_count": 166
        }
      ]
    },
    {
      "cell_type": "code",
      "metadata": {
        "colab": {
          "base_uri": "https://localhost:8080/",
          "height": 35
        },
        "id": "Tpg_IvyoDGJK",
        "outputId": "63ed56eb-2a7d-44a4-f561-70f862f96b0e"
      },
      "source": [
        "# Ejercicio 3\n",
        "test = True\n",
        "if operacion3(5,2) != (2,1):\n",
        "    print('El resultado del cálculo es incorrecto')\n",
        "    test = False\n",
        "    \n",
        "if operacion3(7,2) != (3,1):\n",
        "    print('El resultado del cálculo es incorrecto')\n",
        "    test = False\n",
        "\n",
        "'Luce bien!' if test else 'Revise el enunciado ya que el resultado no parece correcto'"
      ],
      "execution_count": null,
      "outputs": [
        {
          "output_type": "execute_result",
          "data": {
            "application/vnd.google.colaboratory.intrinsic+json": {
              "type": "string"
            },
            "text/plain": [
              "'Luce bien!'"
            ]
          },
          "metadata": {},
          "execution_count": 167
        }
      ]
    },
    {
      "cell_type": "code",
      "metadata": {
        "colab": {
          "base_uri": "https://localhost:8080/",
          "height": 35
        },
        "id": "fxjUQkeKGcZX",
        "outputId": "bc73b30c-1523-46e1-dcb2-ad8d2818ed49"
      },
      "source": [
        "# Ejercicio 4\n",
        "test = True\n",
        "if operacion4('Esto es una oración') != 'nóicaro anu se otsE':\n",
        "    print('El resultado del cálculo es incorrecto')\n",
        "    test = False\n",
        "if operacion4('Sé ver la luz azúl al revéS') != 'Séver la lúza zul al rev éS':\n",
        "    print('El resultado del cálculo es incorrecto')\n",
        "    test = False\n",
        "\n",
        "'Luce bien!' if test else 'Revise el enunciado ya que el resultado no parece correcto'"
      ],
      "execution_count": null,
      "outputs": [
        {
          "output_type": "execute_result",
          "data": {
            "application/vnd.google.colaboratory.intrinsic+json": {
              "type": "string"
            },
            "text/plain": [
              "'Luce bien!'"
            ]
          },
          "metadata": {},
          "execution_count": 168
        }
      ]
    },
    {
      "cell_type": "code",
      "metadata": {
        "colab": {
          "base_uri": "https://localhost:8080/",
          "height": 35
        },
        "id": "IPRJCV9QGfgz",
        "outputId": "78a73b86-888b-4e39-c7b0-97f58d82ec71"
      },
      "source": [
        "# Ejercicio 5\n",
        "test = True\n",
        "if not operacion5('gavit0eslaostia@udec.co'):\n",
        "    print('La validación no es correcta')\n",
        "    test = False\n",
        "if operacion5('gavit0eslaostia@udec.co.'):\n",
        "    print('El resultado del cálculo es incorrecto')\n",
        "    test = False\n",
        "\n",
        "'Luce bien!' if test else 'Revise el enunciado ya que el resultado no parece correcto'"
      ],
      "execution_count": null,
      "outputs": [
        {
          "output_type": "execute_result",
          "data": {
            "application/vnd.google.colaboratory.intrinsic+json": {
              "type": "string"
            },
            "text/plain": [
              "'Luce bien!'"
            ]
          },
          "metadata": {},
          "execution_count": 169
        }
      ]
    },
    {
      "cell_type": "code",
      "metadata": {
        "colab": {
          "base_uri": "https://localhost:8080/",
          "height": 35
        },
        "id": "xTMV5ppoK0bT",
        "outputId": "b0154da8-03a1-4d20-ac4c-b526a65f8ac3"
      },
      "source": [
        "# Ejercicio 6\n",
        "test = True\n",
        "if not operacion6('2000-01-15'):\n",
        "    print('La validación no es correcta')\n",
        "    test = False\n",
        "if operacion6('2010-01-15'):\n",
        "    print('El resultado del cálculo es incorrecto')\n",
        "    test = False\n",
        "\n",
        "'Luce bien!' if test else 'Revise el enunciado ya que el resultado no parece correcto'"
      ],
      "execution_count": null,
      "outputs": [
        {
          "output_type": "execute_result",
          "data": {
            "application/vnd.google.colaboratory.intrinsic+json": {
              "type": "string"
            },
            "text/plain": [
              "'Luce bien!'"
            ]
          },
          "metadata": {},
          "execution_count": 170
        }
      ]
    },
    {
      "cell_type": "code",
      "metadata": {
        "colab": {
          "base_uri": "https://localhost:8080/",
          "height": 35
        },
        "id": "a2wK6f2KOE2D",
        "outputId": "4e229f81-a3aa-400f-dcb1-37cd1794d448"
      },
      "source": [
        "# Ejercicio 7\n",
        "test = True\n",
        "if operacion7(0,2,5) != [0,2,4,6,8]:\n",
        "    print('La lista no tiene los elementos esperados')\n",
        "    test = False\n",
        "if operacion7(0,3,4) != [0,3,6,9]:\n",
        "    print('La lista no tiene los elementos esperados')\n",
        "    test = False\n",
        "\n",
        "'Luce bien!' if test else 'Revise el enunciado ya que el resultado no parece correcto'"
      ],
      "execution_count": null,
      "outputs": [
        {
          "output_type": "execute_result",
          "data": {
            "application/vnd.google.colaboratory.intrinsic+json": {
              "type": "string"
            },
            "text/plain": [
              "'Luce bien!'"
            ]
          },
          "metadata": {},
          "execution_count": 171
        }
      ]
    },
    {
      "cell_type": "code",
      "metadata": {
        "colab": {
          "base_uri": "https://localhost:8080/",
          "height": 35
        },
        "id": "_fy-_1-BQKkY",
        "outputId": "7c0ae847-d24e-470c-b3f3-cb6b9e7c8250"
      },
      "source": [
        "# Ejercicio 8\n",
        "dicc = [{'Nombre': 'Pepe', 'Edad' : 10},\n",
        "        {'Nombre': 'Maria', 'Edad' : 17},\n",
        "        {'Nombre': 'Jose', 'Edad' : 25},\n",
        "        {'Nombre': 'Andrea', 'Edad' : 16},\n",
        "]\n",
        "res = operacion8(dicc, 'Andrea', 17)\n",
        "test = True\n",
        "if res[3]['Edad'] != 17:\n",
        "    print('Asegurese de actualizar la edad del elemento correcto')\n",
        "    test = False\n",
        "\n",
        "'Luce bien!' if test else 'Revise el enunciado ya que el resultado no parece correcto'"
      ],
      "execution_count": null,
      "outputs": [
        {
          "output_type": "execute_result",
          "data": {
            "application/vnd.google.colaboratory.intrinsic+json": {
              "type": "string"
            },
            "text/plain": [
              "'Luce bien!'"
            ]
          },
          "metadata": {},
          "execution_count": 172
        }
      ]
    },
    {
      "cell_type": "code",
      "source": [
        "# Ejercicio 9\n",
        "res1, res2 = operacion9('Carlos', 'María', 'Pepe')\n",
        "test = res1 == 'Carlos' and res2 == 6\n",
        "\n",
        "'Luce bien!' if test else 'Revise el enunciado ya que el resultado no parece correcto'"
      ],
      "metadata": {
        "id": "5E_R9M2-RmsZ"
      },
      "execution_count": null,
      "outputs": []
    },
    {
      "cell_type": "code",
      "source": [
        "# Ejercicio 10\n",
        "\n",
        "db = {\"Nombre\":[\"Pepe\", \"María\", \"Andrea\"], \"Edad\":[25,23,19]}\n",
        "operacion10(db)"
      ],
      "metadata": {
        "id": "MMnH-jz5SkXb"
      },
      "execution_count": null,
      "outputs": []
    },
    {
      "cell_type": "markdown",
      "source": [
        "***Extras***"
      ],
      "metadata": {
        "id": "5ZwAgcohRf95"
      }
    },
    {
      "cell_type": "code",
      "metadata": {
        "colab": {
          "base_uri": "https://localhost:8080/",
          "height": 35
        },
        "id": "U9EvMjHnSgRW",
        "outputId": "9032f975-32d1-4125-fcde-67df3484e823"
      },
      "source": [
        "# Ejercicio Extra 1\n",
        "db = {\n",
        "    'Mes': ['Enero', 'Febrero', 'Marzo', 'Abril'],\n",
        "    'Ventas': ['10200', '30600', '10300', '30900'],\n",
        "    'Gastos': ['20000', '25400', '18000', '24000'],\n",
        "}\n",
        "\n",
        "df = pd.DataFrame(db)\n",
        "if len(operacion11(df)) != 2:\n",
        "    print('Asegurese de filtrar solo donde los gastos sean mayores que las ventas')\n",
        "    test = False\n",
        "\n",
        "'Luce bien!' if test else 'Revise el enunciado ya que el resultado no parece correcto'"
      ],
      "execution_count": null,
      "outputs": [
        {
          "output_type": "execute_result",
          "data": {
            "application/vnd.google.colaboratory.intrinsic+json": {
              "type": "string"
            },
            "text/plain": [
              "'Luce bien!'"
            ]
          },
          "metadata": {},
          "execution_count": 173
        }
      ]
    },
    {
      "cell_type": "markdown",
      "source": [
        "Si todo loce bien, así lucirá la nota."
      ],
      "metadata": {
        "id": "hw2rKlJzSw8h"
      }
    }
  ]
}